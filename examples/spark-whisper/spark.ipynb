{
 "cells": [
  {
   "cell_type": "code",
   "execution_count": 1,
   "metadata": {},
   "outputs": [
    {
     "name": "stdout",
     "output_type": "stream",
     "text": [
      "INFO | 2025-03-06 11:02:24 | runhouse.resources.secrets.provider_secrets.ssh_secret:93 | Secrets already exist in ~/.ssh/sky-key. Skipping.\n"
     ]
    }
   ],
   "source": [
    "import runhouse as rh \n",
    "img = (\n",
    "    rh.Image()\n",
    "    .install_packages(\n",
    "        [\"pyspark\",\n",
    "            \"whisper\",\n",
    "            \"pandas\",\n",
    "            \"torch\",\n",
    "            \"transformers\",\n",
    "            \"datasets\",],\n",
    "    )\n",
    ") \n",
    "\n",
    "num_gpus_per_node = 4\n",
    "\n",
    "cluster = rh.compute(\n",
    "    name=f\"rh-L4x{num_gpus_per_node}\",\n",
    "    instance_type=f\"L4:{num_gpus_per_node}\",\n",
    "    provider=\"aws\",\n",
    "    image=img,\n",
    "    use_spot=False,\n",
    "    autostop_mins=1200,\n",
    ").up_if_not()"
   ]
  },
  {
   "cell_type": "code",
   "execution_count": null,
   "metadata": {},
   "outputs": [],
   "source": [
    "cluster.rsync(\"/examples/spark-whisper/gpu-discovery.sh\", \"gpu-discovery.sh\")\n",
    "cluster.run_bash_over_ssh([\"chmod +x gpu-discovery.sh\"])    "
   ]
  }
 ],
 "metadata": {
  "kernelspec": {
   "display_name": "myenv",
   "language": "python",
   "name": "python3"
  },
  "language_info": {
   "codemirror_mode": {
    "name": "ipython",
    "version": 3
   },
   "file_extension": ".py",
   "mimetype": "text/x-python",
   "name": "python",
   "nbconvert_exporter": "python",
   "pygments_lexer": "ipython3",
   "version": "3.10.13"
  }
 },
 "nbformat": 4,
 "nbformat_minor": 2
}
