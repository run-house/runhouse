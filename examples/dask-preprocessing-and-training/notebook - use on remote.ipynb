{
 "cells": [
  {
   "cell_type": "markdown",
   "metadata": {},
   "source": [
    "# Notebook on the Remote Cluster \n",
    "After running cluster.notebook(), researchers will be able to access a notebook that is directly on the head node of the Runhouse cluster. This means they can locally interact with remote Runhouse objects, and also make interactive local use of the Dask cluster started by Runhouse. "
   ]
  },
  {
   "cell_type": "code",
   "execution_count": null,
   "metadata": {},
   "outputs": [],
   "source": [
    "# As opposed to the other notebook example, we will use the runhouse.here method to get the cluster since we are on the remote instance \n",
    "import runhouse as rh \n",
    "cluster = rh.here \n",
    "\n",
    "# But the object we created in the main training script is accessible now too\n",
    "trainer = cluster.get(\"my_trainer\", remote = True, default = None)\n",
    "print(trainer.return_model_details())\n"
   ]
  },
  {
   "cell_type": "code",
   "execution_count": null,
   "metadata": {},
   "outputs": [],
   "source": [
    "# We can locally and interactively use the Dask client\n",
    "from dask.distributed import Client\n",
    "rh_cluster = rh.here \n",
    "rh_cluster.connect_dask()\n",
    "client = Client('localhost:8786')\n",
    "cluster.kill_dask() "
   ]
  }
 ],
 "metadata": {
  "kernelspec": {
   "display_name": "tempenv",
   "language": "python",
   "name": "python3"
  },
  "language_info": {
   "codemirror_mode": {
    "name": "ipython",
    "version": 3
   },
   "file_extension": ".py",
   "mimetype": "text/x-python",
   "name": "python",
   "nbconvert_exporter": "python",
   "pygments_lexer": "ipython3",
   "version": "3.10.13"
  }
 },
 "nbformat": 4,
 "nbformat_minor": 2
}
