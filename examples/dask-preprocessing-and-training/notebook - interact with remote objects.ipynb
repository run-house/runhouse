{
 "cells": [
  {
   "cell_type": "markdown",
   "metadata": {},
   "source": [
    "# Locally interact wiht remote objects \n",
    "If we connect to the remote cluster from a notebook, we can interact with the remote objects we created in the training script in parallel "
   ]
  },
  {
   "cell_type": "code",
   "execution_count": 23,
   "metadata": {},
   "outputs": [
    {
     "name": "stdout",
     "output_type": "stream",
     "text": [
      "INFO | 2024-11-14 22:47:39 | runhouse.resources.secrets.secret:285 | Saving config for /paul/ssh-sky-key to Den\n",
      "INFO | 2024-11-14 22:47:39 | runhouse.resources.secrets.secret:301 | Saving secrets for /paul/ssh-sky-key to Vault\n",
      "INFO | 2024-11-14 22:47:39 | runhouse.rns.rns_client:502 | Saving config for /paul/dask-env to RNS\n",
      "INFO | 2024-11-14 22:47:40 | runhouse.rns.rns_client:502 | Saving config for /paul/py-3-dask-gcp-1_2_jupyter to RNS\n",
      "INFO | 2024-11-14 22:47:40 | runhouse.resources.hardware.on_demand_cluster:554 | Launching cluster with Den\n",
      "INFO | 2024-11-14 22:47:40 | runhouse.resources.hardware.launcher_utils:91 | Checking cluster status\n",
      "INFO | 2024-11-14 22:47:44 | runhouse.resources.hardware.launcher_utils:86 | Launching cluster\n",
      "INFO | 2024-11-14 22:51:45 | runhouse.resources.hardware.launcher_utils:91 | Successfully launched cluster\n",
      "INFO | 2024-11-14 22:51:46 | runhouse.resources.hardware.launcher_utils:101 | Successfully ran cluster operation via Den\n",
      "verbose {'resource_subtype': 'OnDemandCluster', 'ips': ['34.74.153.65', '34.138.212.133', '34.139.63.210'], 'server_port': 32300, 'server_connection_type': 'ssh', 'den_auth': False, 'ssh_port': 22, 'client_port': 32300, 'ssh_properties': {'ssh_user': 'gcpuser', 'ssh_private_key': '~/.ssh/sky-key', 'ssh_control_name': 'py-3-dask-gcp-1-2-jupyter-afc0', 'ssh_proxy_command': None}, 'creds': '/paul/ssh-sky-key', 'api_server_url': 'https://api.run.house', 'default_env': '/paul/dask-env', 'instance_type': 'CPU:2+', 'num_nodes': 3, 'provider': 'gcp', 'open_ports': [], 'use_spot': False, 'region': 'us-east1', 'stable_internal_external_ips': [('10.142.0.31', '34.74.153.65'), ('10.142.0.32', '34.138.212.133'), ('10.142.0.33', '34.139.63.210')], 'memory': '12+', 'sky_kwargs': {}, 'launched_properties': {'cloud': 'gcp', 'instance_type': 'n2-highmem-2', 'region': 'us-east1', 'cost_per_hour': '0.13101', 'disk_size': 256, 'num_cpus': '2.0'}, 'launcher_type': 'den', 'autostop_mins': -1}\n",
      "verbose {'api_server_url': 'https://api.run.house',\n",
      " 'autostop_mins': -1,\n",
      " 'client_port': 32300,\n",
      " 'creds': '/paul/ssh-sky-key',\n",
      " 'default_env': '/paul/dask-env',\n",
      " 'den_auth': False,\n",
      " 'instance_type': 'CPU:2+',\n",
      " 'ips': ['34.74.153.65', '34.138.212.133', '34.139.63.210'],\n",
      " 'launched_properties': {'cloud': 'gcp',\n",
      "                         'cost_per_hour': '0.13101',\n",
      "                         'disk_size': 256,\n",
      "                         'instance_type': 'n2-highmem-2',\n",
      "                         'num_cpus': '2.0',\n",
      "                         'region': 'us-east1'},\n",
      " 'launcher_type': 'den',\n",
      " 'memory': '12+',\n",
      " 'name': '/paul/py-3-dask-gcp-1_2_jupyter',\n",
      " 'num_nodes': 3,\n",
      " 'open_ports': [],\n",
      " 'provider': 'gcp',\n",
      " 'region': 'us-east1',\n",
      " 'resource_subtype': 'OnDemandCluster',\n",
      " 'resource_type': 'cluster',\n",
      " 'server_connection_type': 'ssh',\n",
      " 'server_port': 32300,\n",
      " 'sky_kwargs': {},\n",
      " 'ssh_port': 22,\n",
      " 'ssh_properties': {'ssh_control_name': 'py-3-dask-gcp-1-2-jupyter-afc0',\n",
      "                    'ssh_private_key': '~/.ssh/sky-key',\n",
      "                    'ssh_proxy_command': None,\n",
      "                    'ssh_user': 'gcpuser'},\n",
      " 'stable_internal_external_ips': [('10.142.0.31', '34.74.153.65'),\n",
      "                                  ('10.142.0.32', '34.138.212.133'),\n",
      "                                  ('10.142.0.33', '34.139.63.210')],\n",
      " 'use_spot': False,\n",
      " 'visibility': 'private'}\n"
     ]
    }
   ],
   "source": [
    "import runhouse as rh \n",
    "\n",
    "num_nodes = 3\n",
    "cluster_name = f\"rh-{num_nodes}-dask-gcp-1_3_jupyter\"\n",
    "\n",
    "# The environment for the remote cluster\n",
    "img = rh.Image(name=\"dask-img\").install_packages([\n",
    "        \"dask-ml\",\n",
    "        \"dask[distributed]\",\n",
    "        \"dask[dataframe]\",\n",
    "        \"gcsfs\",\n",
    "        \"lightgbm\",\n",
    "    ])\n",
    "\n",
    "cluster = rh.compute(\n",
    "    name=cluster_name,\n",
    "    instance_type= 'CPU:2+',\n",
    "    memory = \"12+\",\n",
    "    num_nodes=num_nodes,\n",
    "    provider=\"gcp\",\n",
    "    region = \"us-east1\",\n",
    "    image=img,\n",
    ").up_if_not()\n",
    "#cluster.teardown()"
   ]
  },
  {
   "cell_type": "code",
   "execution_count": 3,
   "metadata": {},
   "outputs": [
    {
     "name": "stdout",
     "output_type": "stream",
     "text": [
      "INFO | 2024-11-12 22:35:08 | runhouse.resources.hardware.ssh_tunnel:250 | Port 32300 is already in use. Trying next port.\n",
      "INFO | 2024-11-12 22:35:08 | runhouse.resources.hardware.ssh_tunnel:250 | Port 32301 is already in use. Trying next port.\n",
      "INFO | 2024-11-12 22:35:08 | runhouse.resources.hardware.ssh_tunnel:91 | Running forwarding command: ssh -T -L 32302:localhost:32300 -i ~/.ssh/sky-key -o Port=22 -o StrictHostKeyChecking=no -o UserKnownHostsFile=/dev/null -o LogLevel=ERROR -o IdentitiesOnly=yes -o ExitOnForwardFailure=yes -o ServerAliveInterval=5 -o ServerAliveCountMax=3 -o ConnectTimeout=30s -o ForwardAgent=yes -o ControlMaster=auto -o ControlPath=/tmp/skypilot_ssh_6ba66db0/4b487bd908/%C -o ControlPersist=300s gcpuser@34.74.23.61\n",
      "INFO | 2024-11-12 22:35:09 | runhouse.servers.http.http_client:439 | Calling my_trainer.return_model_details\n"
     ]
    },
    {
     "name": "stderr",
     "output_type": "stream",
     "text": [
      "INFO:httpx:HTTP Request: GET http://127.0.0.1:32302/logs/my_trainer/my_trainer_return_model_details@20241112@223509_408821/pickle \"HTTP/1.1 200 OK\"\n"
     ]
    },
    {
     "name": "stdout",
     "output_type": "stream",
     "text": [
      "INFO | 2024-11-12 22:35:09 | runhouse.servers.http.http_client:504 | Time to call my_trainer.return_model_details: 0.08 seconds\n",
      "{'features': ['passenger_count', 'trip_distance', 'fare_amount', 'day', 'month', 'dayofweek', 'hour'], 'mse': np.float64(10.173834328554335), 'mae': np.float64(1.9945495515063427)}\n"
     ]
    }
   ],
   "source": [
    "# Use the return_model_details class on the remote object\n",
    "trainer = cluster.get(\"my_trainer\", remote = True, default = None)\n",
    "print(trainer.return_model_details())"
   ]
  },
  {
   "cell_type": "code",
   "execution_count": 4,
   "metadata": {},
   "outputs": [
    {
     "name": "stdout",
     "output_type": "stream",
     "text": [
      "INFO | 2024-11-12 22:35:13 | runhouse.servers.http.http_client:439 | Calling my_trainer.predict\n"
     ]
    },
    {
     "name": "stderr",
     "output_type": "stream",
     "text": [
      "INFO:httpx:HTTP Request: GET http://127.0.0.1:32302/logs/my_trainer/my_trainer_predict@20241112@223513_267805/pickle \"HTTP/1.1 200 OK\"\n"
     ]
    },
    {
     "name": "stdout",
     "output_type": "stream",
     "text": [
      "------------\n",
      "\u001b[36mpy-2-new-gcp\u001b[0m\n",
      "------------\n",
      "\u001b[36mdask.array<_predict_part, shape=(1,), dtype=float32, chunksize=(1,), chunktype=numpy.ndarray>\n",
      "\u001b[0m\u001b[36m[10.87070356]\n",
      "\u001b[0mINFO | 2024-11-12 22:35:13 | runhouse.servers.http.http_client:504 | Time to call my_trainer.predict: 0.58 seconds\n"
     ]
    },
    {
     "data": {
      "text/plain": [
       "10.870703558582909"
      ]
     },
     "execution_count": 4,
     "metadata": {},
     "output_type": "execute_result"
    }
   ],
   "source": [
    "# Run an inference on the remote model \n",
    "import numpy as np \n",
    "import dask.array as da\n",
    "input_data = [3, 5, 110, 5, 11, 3, 6]\n",
    "\n",
    "trainer.predict(input_data)"
   ]
  },
  {
   "cell_type": "code",
   "execution_count": 7,
   "metadata": {},
   "outputs": [
    {
     "name": "stdout",
     "output_type": "stream",
     "text": [
      "INFO | 2024-11-12 22:40:33 | runhouse.resources.hardware.on_demand_cluster:618 | Tearing down cluster locally via Sky.\n",
      "INFO | 2024-11-12 22:40:59 | runhouse.resources.secrets.secret:285 | Saving config for /paul/ssh-sky-key to Den\n",
      "INFO | 2024-11-12 22:40:59 | runhouse.resources.secrets.secret:301 | Saving secrets for /paul/ssh-sky-key to Vault\n",
      "INFO | 2024-11-12 22:40:59 | runhouse.rns.rns_client:502 | Saving config for /paul/dask-env to RNS\n",
      "INFO | 2024-11-12 22:40:59 | runhouse.rns.rns_client:502 | Saving config for /paul/py-2-new-gcp to RNS\n"
     ]
    }
   ],
   "source": [
    "cluster.teardown()"
   ]
  },
  {
   "cell_type": "code",
   "execution_count": 24,
   "metadata": {},
   "outputs": [
    {
     "name": "stdout",
     "output_type": "stream",
     "text": [
      "INFO | 2024-11-14 22:59:57 | runhouse.resources.hardware.ssh_tunnel:91 | Running forwarding command: ssh -T -L 32300:localhost:32300 -i ~/.ssh/sky-key -o Port=22 -o StrictHostKeyChecking=no -o UserKnownHostsFile=/dev/null -o LogLevel=ERROR -o IdentitiesOnly=yes -o ExitOnForwardFailure=yes -o ServerAliveInterval=5 -o ServerAliveCountMax=3 -o ConnectTimeout=30s -o ForwardAgent=yes -o ControlMaster=auto -o ControlPath=/tmp/skypilot_ssh_6ba66db0/05075989d7/%C -o ControlPersist=300s gcpuser@34.74.153.65\n",
      "WARNING | 2024-11-14 22:59:57 | runhouse.servers.http.http_client:277 | Server was started with Runhouse version (0.0.36), but local Runhouse version is (0.0.37)\n",
      "WARNING | 2024-11-14 22:59:59 | runhouse.servers.http.http_client:277 | Server was started with Runhouse version (0.0.36), but local Runhouse version is (0.0.37)\n",
      "INFO | 2024-11-14 22:59:59 | runhouse.servers.http.http_client:439 | Calling dask-env._run_setup_cmds\n"
     ]
    },
    {
     "name": "stderr",
     "output_type": "stream",
     "text": [
      "INFO:httpx:HTTP Request: GET http://127.0.0.1:32300/logs/dask-env/dask-env__run_setup_cmds@20241114@225959_101481/pickle \"HTTP/1.1 200 OK\"\n"
     ]
    },
    {
     "name": "stdout",
     "output_type": "stream",
     "text": [
      "INFO | 2024-11-14 22:59:59 | runhouse.servers.http.http_client:504 | Time to call dask-env._run_setup_cmds: 0.55 seconds\n",
      "WARNING | 2024-11-14 22:59:59 | runhouse.servers.http.http_client:277 | Server was started with Runhouse version (0.0.36), but local Runhouse version is (0.0.37)\n",
      "WARNING | 2024-11-14 22:59:59 | runhouse.servers.http.http_client:277 | Server was started with Runhouse version (0.0.36), but local Runhouse version is (0.0.37)\n",
      "INFO | 2024-11-14 22:59:59 | runhouse.resources.module:558 | Sending module LightGBMModelTrainer of type <class 'runhouse.resources.module.LightGBMModelTrainer'> to py-3-dask-gcp-1_2_jupyter\n",
      "WARNING | 2024-11-14 22:59:59 | runhouse.servers.http.http_client:277 | Server was started with Runhouse version (0.0.36), but local Runhouse version is (0.0.37)\n",
      "WARNING | 2024-11-14 22:59:59 | runhouse.servers.http.http_client:277 | Server was started with Runhouse version (0.0.36), but local Runhouse version is (0.0.37)\n",
      "WARNING | 2024-11-14 22:59:59 | runhouse.servers.http.http_client:277 | Server was started with Runhouse version (0.0.36), but local Runhouse version is (0.0.37)\n",
      "INFO | 2024-11-14 23:00:00 | runhouse.resources.secrets.secret:285 | Saving config for /paul/ssh-sky-key to Den\n",
      "INFO | 2024-11-14 23:00:00 | runhouse.resources.secrets.secret:301 | Saving secrets for /paul/ssh-sky-key to Vault\n",
      "INFO | 2024-11-14 23:00:00 | runhouse.rns.rns_client:502 | Saving config for /paul/dask-env to RNS\n",
      "INFO | 2024-11-14 23:00:00 | runhouse.rns.rns_client:502 | Saving config for /paul/py-3-dask-gcp-1_2_jupyter to RNS\n",
      "WARNING | 2024-11-14 23:00:00 | runhouse.servers.http.http_client:277 | Server was started with Runhouse version (0.0.36), but local Runhouse version is (0.0.37)\n",
      "INFO | 2024-11-14 23:00:00 | runhouse.rns.rns_client:502 | Saving config for /paul/dask-env to RNS\n",
      "WARNING | 2024-11-14 23:00:00 | runhouse.servers.http.http_client:277 | Server was started with Runhouse version (0.0.36), but local Runhouse version is (0.0.37)\n",
      "WARNING | 2024-11-14 23:00:00 | runhouse.servers.http.http_client:277 | Server was started with Runhouse version (0.0.36), but local Runhouse version is (0.0.37)\n",
      "INFO | 2024-11-14 23:00:00 | runhouse.rns.rns_client:502 | Saving config for /paul/LightGBMModelTrainer to RNS\n",
      "WARNING | 2024-11-14 23:00:00 | runhouse.servers.http.http_client:277 | Server was started with Runhouse version (0.0.36), but local Runhouse version is (0.0.37)\n",
      "WARNING | 2024-11-14 23:00:00 | runhouse.servers.http.http_client:277 | Server was started with Runhouse version (0.0.36), but local Runhouse version is (0.0.37)\n",
      "INFO | 2024-11-14 23:00:00 | runhouse.servers.http.http_client:439 | Calling LightGBMModelTrainer.name\n"
     ]
    },
    {
     "name": "stderr",
     "output_type": "stream",
     "text": [
      "INFO:httpx:HTTP Request: GET http://127.0.0.1:32300/logs/LightGBMModelTrainer/LightGBMModelTrainer_name@20241114@230000_695718/pickle \"HTTP/1.1 200 OK\"\n"
     ]
    },
    {
     "name": "stdout",
     "output_type": "stream",
     "text": [
      "INFO | 2024-11-14 23:00:00 | runhouse.servers.http.http_client:504 | Time to call LightGBMModelTrainer.name: 0.07 seconds\n",
      "WARNING | 2024-11-14 23:00:00 | runhouse.servers.http.http_client:277 | Server was started with Runhouse version (0.0.36), but local Runhouse version is (0.0.37)\n",
      "WARNING | 2024-11-14 23:00:00 | runhouse.servers.http.http_client:277 | Server was started with Runhouse version (0.0.36), but local Runhouse version is (0.0.37)\n",
      "INFO | 2024-11-14 23:00:01 | runhouse.resources.secrets.provider_secrets.ssh_secret:90 | Secrets already exist in ~/.ssh/sky-key. Skipping.\n",
      "WARNING | 2024-11-14 23:00:01 | runhouse.servers.http.http_client:277 | Server was started with Runhouse version (0.0.36), but local Runhouse version is (0.0.37)\n",
      "WARNING | 2024-11-14 23:00:01 | runhouse.servers.http.http_client:277 | Server was started with Runhouse version (0.0.36), but local Runhouse version is (0.0.37)\n",
      "WARNING | 2024-11-14 23:00:01 | runhouse.servers.http.http_client:277 | Server was started with Runhouse version (0.0.36), but local Runhouse version is (0.0.37)\n",
      "WARNING | 2024-11-14 23:00:01 | runhouse.servers.http.http_client:277 | Server was started with Runhouse version (0.0.36), but local Runhouse version is (0.0.37)\n",
      "INFO | 2024-11-14 23:00:01 | runhouse.servers.http.http_client:439 | Calling my_trainer._remote_init\n"
     ]
    },
    {
     "name": "stderr",
     "output_type": "stream",
     "text": [
      "INFO:httpx:HTTP Request: GET http://127.0.0.1:32300/logs/my_trainer/my_trainer__remote_init@20241114@230001_492882/pickle \"HTTP/1.1 200 OK\"\n"
     ]
    },
    {
     "name": "stdout",
     "output_type": "stream",
     "text": [
      "INFO | 2024-11-14 23:00:01 | runhouse.servers.http.http_client:504 | Time to call my_trainer._remote_init: 0.08 seconds\n",
      "WARNING | 2024-11-14 23:00:01 | runhouse.servers.http.http_client:277 | Server was started with Runhouse version (0.0.36), but local Runhouse version is (0.0.37)\n",
      "INFO | 2024-11-14 23:00:01 | runhouse.servers.http.http_client:439 | Calling my_trainer.distribute\n"
     ]
    },
    {
     "name": "stderr",
     "output_type": "stream",
     "text": [
      "INFO:httpx:HTTP Request: GET http://127.0.0.1:32300/logs/my_trainer/my_trainer_distribute@20241114@230001_618842/pickle \"HTTP/1.1 200 OK\"\n"
     ]
    },
    {
     "name": "stdout",
     "output_type": "stream",
     "text": [
      "INFO | 2024-11-14 23:00:03 | runhouse.servers.http.http_client:504 | Time to call my_trainer.distribute: 1.15 seconds\n"
     ]
    }
   ],
   "source": [
    "from lightgbm_training import LightGBMModelTrainer\n",
    "remote_dask_trainer = rh.cls(LightGBMModelTrainer).to(cluster)\n",
    "dask_trainer = remote_dask_trainer(\n",
    "    name=\"my_trainer\"\n",
    ").distribute('dask') "
   ]
  },
  {
   "cell_type": "code",
   "execution_count": 25,
   "metadata": {},
   "outputs": [
    {
     "name": "stdout",
     "output_type": "stream",
     "text": [
      "WARNING | 2024-11-14 23:00:05 | runhouse.servers.http.http_client:277 | Server was started with Runhouse version (0.0.36), but local Runhouse version is (0.0.37)\n",
      "WARNING | 2024-11-14 23:00:05 | runhouse.servers.http.http_client:277 | Server was started with Runhouse version (0.0.36), but local Runhouse version is (0.0.37)\n",
      "INFO | 2024-11-14 23:00:05 | runhouse.servers.http.http_client:439 | Calling dask_my_trainer.forward\n"
     ]
    },
    {
     "name": "stderr",
     "output_type": "stream",
     "text": [
      "INFO:httpx:HTTP Request: GET http://127.0.0.1:32300/logs/dask_my_trainer/dask_my_trainer_forward@20241114@230005_559762/pickle \"HTTP/1.1 200 OK\"\n"
     ]
    },
    {
     "name": "stdout",
     "output_type": "stream",
     "text": [
      "INFO | 2024-11-14 23:00:10 | runhouse.servers.http.http_client:504 | Time to call dask_my_trainer.forward: 5.19 seconds\n",
      "WARNING | 2024-11-14 23:00:10 | runhouse.servers.http.http_client:277 | Server was started with Runhouse version (0.0.36), but local Runhouse version is (0.0.37)\n",
      "WARNING | 2024-11-14 23:00:10 | runhouse.servers.http.http_client:277 | Server was started with Runhouse version (0.0.36), but local Runhouse version is (0.0.37)\n",
      "INFO | 2024-11-14 23:00:10 | runhouse.servers.http.http_client:439 | Calling dask_my_trainer.forward\n"
     ]
    },
    {
     "name": "stderr",
     "output_type": "stream",
     "text": [
      "INFO:httpx:HTTP Request: GET http://127.0.0.1:32300/logs/dask_my_trainer/dask_my_trainer_forward@20241114@230010_835596/pickle \"HTTP/1.1 200 OK\"\n"
     ]
    },
    {
     "name": "stdout",
     "output_type": "stream",
     "text": [
      "-------------------------\n",
      "\u001b[36mpy-3-dask-gcp-1_2_jupyter\u001b[0m\n",
      "-------------------------\n",
      "\u001b[36mIndex(['VendorID', 'tpep_pickup_datetime', 'tpep_dropoff_datetime',\n",
      "\u001b[0m\u001b[36m       'passenger_count', 'trip_distance', 'RatecodeID', 'store_and_fwd_flag',\n",
      "\u001b[0m\u001b[36m       'PULocationID', 'DOLocationID', 'payment_type', 'fare_amount', 'extra',\n",
      "\u001b[0m\u001b[36m       'mta_tax', 'tip_amount', 'tolls_amount', 'improvement_surcharge',\n",
      "\u001b[0m\u001b[36m       'total_amount', 'congestion_surcharge', 'Airport_fee'],\n",
      "\u001b[0m\u001b[36m      dtype='object')\n",
      "\u001b[0mINFO | 2024-11-14 23:00:12 | runhouse.servers.http.http_client:504 | Time to call dask_my_trainer.forward: 1.6 seconds\n"
     ]
    }
   ],
   "source": [
    "dataset_path = \"gs://rh-demo-external/*.parquet\"  # 2024 NYC Taxi Data\n",
    "X_vars = [\"passenger_count\", \"trip_distance\", \"fare_amount\"]\n",
    "y_var = \"tip_amount\"\n",
    "\n",
    "\n",
    "dask_trainer.load_client()\n",
    "dask_trainer.load_data(dataset_path)\n"
   ]
  },
  {
   "cell_type": "code",
   "execution_count": 9,
   "metadata": {},
   "outputs": [
    {
     "name": "stdout",
     "output_type": "stream",
     "text": [
      "WARNING | 2024-11-14 22:21:27 | runhouse.servers.http.http_client:277 | Server was started with Runhouse version (0.0.36), but local Runhouse version is (0.0.37)\n",
      "WARNING | 2024-11-14 22:21:27 | runhouse.servers.http.http_client:277 | Server was started with Runhouse version (0.0.36), but local Runhouse version is (0.0.37)\n",
      "INFO | 2024-11-14 22:21:27 | runhouse.servers.http.http_client:439 | Calling dask_my_trainer.forward\n"
     ]
    },
    {
     "name": "stderr",
     "output_type": "stream",
     "text": [
      "INFO:httpx:HTTP Request: GET http://127.0.0.1:32301/logs/dask_my_trainer/dask_my_trainer_forward@20241114@222127_143301/pickle \"HTTP/1.1 200 OK\"\n"
     ]
    },
    {
     "name": "stdout",
     "output_type": "stream",
     "text": [
      "INFO | 2024-11-14 22:21:27 | runhouse.servers.http.http_client:504 | Time to call dask_my_trainer.forward: 0.55 seconds\n",
      "WARNING | 2024-11-14 22:21:27 | runhouse.servers.http.http_client:277 | Server was started with Runhouse version (0.0.36), but local Runhouse version is (0.0.37)\n",
      "WARNING | 2024-11-14 22:21:27 | runhouse.servers.http.http_client:277 | Server was started with Runhouse version (0.0.36), but local Runhouse version is (0.0.37)\n",
      "INFO | 2024-11-14 22:21:27 | runhouse.servers.http.http_client:439 | Calling dask_my_trainer.forward\n"
     ]
    },
    {
     "name": "stderr",
     "output_type": "stream",
     "text": [
      "INFO:httpx:HTTP Request: GET http://127.0.0.1:32301/logs/dask_my_trainer/dask_my_trainer_forward@20241114@222127_776523/pickle \"HTTP/1.1 200 OK\"\n"
     ]
    },
    {
     "name": "stdout",
     "output_type": "stream",
     "text": [
      "INFO | 2024-11-14 22:21:28 | runhouse.servers.http.http_client:504 | Time to call dask_my_trainer.forward: 0.72 seconds\n"
     ]
    }
   ],
   "source": [
    "new_date_columns = dask_trainer.preprocess(date_column=\"tpep_pickup_datetime\")\n",
    "X_vars = X_vars + new_date_columns\n",
    "dask_trainer.train_test_split(target_var=y_var, features=X_vars)\n"
   ]
  },
  {
   "cell_type": "code",
   "execution_count": 10,
   "metadata": {},
   "outputs": [
    {
     "name": "stdout",
     "output_type": "stream",
     "text": [
      "WARNING | 2024-11-14 22:21:36 | runhouse.servers.http.http_client:277 | Server was started with Runhouse version (0.0.36), but local Runhouse version is (0.0.37)\n",
      "WARNING | 2024-11-14 22:21:36 | runhouse.servers.http.http_client:277 | Server was started with Runhouse version (0.0.36), but local Runhouse version is (0.0.37)\n",
      "INFO | 2024-11-14 22:21:36 | runhouse.servers.http.http_client:439 | Calling dask_my_trainer.forward\n"
     ]
    },
    {
     "name": "stderr",
     "output_type": "stream",
     "text": [
      "INFO:httpx:HTTP Request: GET http://127.0.0.1:32301/logs/dask_my_trainer/dask_my_trainer_forward@20241114@222136_959772/pickle \"HTTP/1.1 200 OK\"\n"
     ]
    },
    {
     "name": "stdout",
     "output_type": "stream",
     "text": [
      "\u001b[36mFinding random open ports for workers\n",
      "\u001b[0m\u001b[36mModel trained successfully. DaskLGBMRegressor(client=<Client: 'tcp://10.142.0.28:8786' processes=6 threads=6, memory=46.85 GiB>,\n",
      "\u001b[0m\u001b[36m                  num_threads=1, time_out=120, tree_learner='data')\n",
      "\u001b[0mINFO | 2024-11-14 22:21:50 | runhouse.servers.http.http_client:504 | Time to call dask_my_trainer.forward: 13.13 seconds\n"
     ]
    }
   ],
   "source": [
    "# Train, test, and save the model\n",
    "dask_trainer.train_model()\n"
   ]
  },
  {
   "cell_type": "code",
   "execution_count": 15,
   "metadata": {},
   "outputs": [
    {
     "name": "stdout",
     "output_type": "stream",
     "text": [
      "INFO | 2024-11-14 22:27:52 | runhouse.resources.hardware.cluster:1760 | Running command on py-3-dask-gcp-1_1_jupyter: pkill -f 'dask scheduler'\n",
      "INFO | 2024-11-14 22:27:53 | runhouse.resources.hardware.cluster:1760 | Running command on py-3-dask-gcp-1_1_jupyter: pkill -f 'dask worker'\n",
      "INFO | 2024-11-14 22:27:53 | runhouse.resources.hardware.cluster:1760 | Running command on py-3-dask-gcp-1_1_jupyter: pkill -f 'dask worker'\n",
      "INFO | 2024-11-14 22:27:54 | runhouse.resources.hardware.cluster:1760 | Running command on py-3-dask-gcp-1_1_jupyter: pkill -f 'dask worker'\n",
      "INFO | 2024-11-14 22:27:54 | runhouse.resources.hardware.ssh_tunnel:91 | Running forwarding command: ssh -T -L 8786:localhost:8786 -i ~/.ssh/sky-key -o Port=22 -o StrictHostKeyChecking=no -o UserKnownHostsFile=/dev/null -o LogLevel=ERROR -o IdentitiesOnly=yes -o ExitOnForwardFailure=yes -o ServerAliveInterval=5 -o ServerAliveCountMax=3 -o ConnectTimeout=30s -o ForwardAgent=yes -o ControlMaster=auto -o ControlPath=/tmp/skypilot_ssh_6ba66db0/33e35b9cde/%C -o ControlPersist=300s gcpuser@34.139.63.210\n",
      "INFO | 2024-11-14 22:27:55 | runhouse.resources.hardware.cluster:1971 | Starting Dask on py-3-dask-gcp-1_1_jupyter.\n",
      "INFO | 2024-11-14 22:27:55 | runhouse.resources.hardware.cluster:1760 | Running command on py-3-dask-gcp-1_1_jupyter: nohup dask scheduler --port 8786  > dask_scheduler.out 2>&1 &\n",
      "INFO | 2024-11-14 22:27:55 | runhouse.resources.hardware.cluster:1994 | Starting Dask worker on 34.139.63.210.\n",
      "INFO | 2024-11-14 22:27:55 | runhouse.resources.hardware.cluster:1760 | Running command on py-3-dask-gcp-1_1_jupyter: nohup dask worker tcp://localhost:8786 --nworkers auto > dask_worker.out 2>&1 &\n",
      "INFO | 2024-11-14 22:27:56 | runhouse.resources.hardware.cluster:1994 | Starting Dask worker on 34.138.212.133.\n",
      "INFO | 2024-11-14 22:27:56 | runhouse.resources.hardware.cluster:1760 | Running command on py-3-dask-gcp-1_1_jupyter: nohup dask worker tcp://10.142.0.28:8786 --nworkers auto > dask_worker.out 2>&1 &\n",
      "INFO | 2024-11-14 22:27:56 | runhouse.resources.hardware.cluster:1994 | Starting Dask worker on 35.243.243.241.\n",
      "INFO | 2024-11-14 22:27:56 | runhouse.resources.hardware.cluster:1760 | Running command on py-3-dask-gcp-1_1_jupyter: nohup dask worker tcp://10.142.0.28:8786 --nworkers auto > dask_worker.out 2>&1 &\n",
      "INFO | 2024-11-14 22:27:57 | runhouse.resources.hardware.cluster:2007 | Connected to Dask on py-3-dask-gcp-1_1_jupyter:8786 with client <Client: 'tcp://10.142.0.28:8786' processes=0 threads=0, memory=0 B>.\n",
      "WARNING | 2024-11-14 22:27:57 | runhouse.servers.http.http_client:277 | Server was started with Runhouse version (0.0.36), but local Runhouse version is (0.0.37)\n",
      "WARNING | 2024-11-14 22:27:57 | runhouse.servers.http.http_client:277 | Server was started with Runhouse version (0.0.36), but local Runhouse version is (0.0.37)\n",
      "INFO | 2024-11-14 22:27:57 | runhouse.servers.http.http_client:439 | Calling dask_my_trainer.forward\n"
     ]
    },
    {
     "name": "stderr",
     "output_type": "stream",
     "text": [
      "/opt/anaconda3/envs/myenv/lib/python3.10/site-packages/distributed/client.py:1606: VersionMismatchWarning: Mismatched versions found\n",
      "\n",
      "+-------------+-----------+-----------+---------+\n",
      "| Package     | Client    | Scheduler | Workers |\n",
      "+-------------+-----------+-----------+---------+\n",
      "| dask        | 2024.10.0 | 2024.11.2 | None    |\n",
      "| distributed | 2024.10.0 | 2024.11.2 | None    |\n",
      "+-------------+-----------+-----------+---------+\n",
      "  warnings.warn(version_module.VersionMismatchWarning(msg[0][\"warning\"]))\n",
      "INFO:httpx:HTTP Request: GET http://127.0.0.1:32301/logs/dask_my_trainer/dask_my_trainer_forward@20241114@222757_613573/pickle \"HTTP/1.1 200 OK\"\n"
     ]
    },
    {
     "name": "stdout",
     "output_type": "stream",
     "text": [
      "INFO | 2024-11-14 22:27:58 | runhouse.servers.http.http_client:504 | Time to call dask_my_trainer.forward: 0.83 seconds\n",
      "WARNING | 2024-11-14 22:27:58 | runhouse.servers.http.http_client:277 | Server was started with Runhouse version (0.0.36), but local Runhouse version is (0.0.37)\n",
      "WARNING | 2024-11-14 22:27:58 | runhouse.servers.http.http_client:277 | Server was started with Runhouse version (0.0.36), but local Runhouse version is (0.0.37)\n",
      "INFO | 2024-11-14 22:27:58 | runhouse.servers.http.http_client:439 | Calling dask_my_trainer.forward\n"
     ]
    },
    {
     "name": "stderr",
     "output_type": "stream",
     "text": [
      "INFO:httpx:HTTP Request: GET http://127.0.0.1:32301/logs/dask_my_trainer/dask_my_trainer_forward@20241114@222758_528702/pickle \"HTTP/1.1 200 OK\"\n"
     ]
    },
    {
     "ename": "KeyboardInterrupt",
     "evalue": "",
     "output_type": "error",
     "traceback": [
      "\u001b[0;31m---------------------------------------------------------------------------\u001b[0m",
      "\u001b[0;31mKeyboardInterrupt\u001b[0m                         Traceback (most recent call last)",
      "File \u001b[0;32m~/runhouse/runhouse/servers/http/http_client.py:460\u001b[0m, in \u001b[0;36mHTTPClient.call_module_method\u001b[0;34m(self, key, method_name, data, serialization, run_name, stream_logs, remote, save, system, headers)\u001b[0m\n\u001b[1;32m    450\u001b[0m     logs_future \u001b[38;5;241m=\u001b[39m executor\u001b[38;5;241m.\u001b[39msubmit(\n\u001b[1;32m    451\u001b[0m         thread_coroutine,\n\u001b[1;32m    452\u001b[0m         \u001b[38;5;28mself\u001b[39m\u001b[38;5;241m.\u001b[39m_alogs_request(\n\u001b[0;32m   (...)\u001b[0m\n\u001b[1;32m    458\u001b[0m         ),\n\u001b[1;32m    459\u001b[0m     )\n\u001b[0;32m--> 460\u001b[0m response \u001b[38;5;241m=\u001b[39m \u001b[43mretry_with_exponential_backoff\u001b[49m\u001b[43m(\u001b[49m\u001b[43msession\u001b[49m\u001b[38;5;241;43m.\u001b[39;49m\u001b[43mpost\u001b[49m\u001b[43m)\u001b[49m\u001b[43m(\u001b[49m\n\u001b[1;32m    461\u001b[0m \u001b[43m    \u001b[49m\u001b[38;5;28;43mself\u001b[39;49m\u001b[38;5;241;43m.\u001b[39;49m\u001b[43m_formatted_url\u001b[49m\u001b[43m(\u001b[49m\u001b[38;5;124;43mf\u001b[39;49m\u001b[38;5;124;43m\"\u001b[39;49m\u001b[38;5;132;43;01m{\u001b[39;49;00m\u001b[43mkey\u001b[49m\u001b[38;5;132;43;01m}\u001b[39;49;00m\u001b[38;5;124;43m/\u001b[39;49m\u001b[38;5;132;43;01m{\u001b[39;49;00m\u001b[43mmethod_name\u001b[49m\u001b[38;5;132;43;01m}\u001b[39;49;00m\u001b[38;5;124;43m\"\u001b[39;49m\u001b[43m)\u001b[49m\u001b[43m,\u001b[49m\n\u001b[1;32m    462\u001b[0m \u001b[43m    \u001b[49m\u001b[43mjson\u001b[49m\u001b[38;5;241;43m=\u001b[39;49m\u001b[43mCallParams\u001b[49m\u001b[43m(\u001b[49m\n\u001b[1;32m    463\u001b[0m \u001b[43m        \u001b[49m\u001b[43mdata\u001b[49m\u001b[38;5;241;43m=\u001b[39;49m\u001b[43mserialize_data\u001b[49m\u001b[43m(\u001b[49m\u001b[43mdata\u001b[49m\u001b[43m,\u001b[49m\u001b[43m \u001b[49m\u001b[43mserialization\u001b[49m\u001b[43m)\u001b[49m\u001b[43m,\u001b[49m\n\u001b[1;32m    464\u001b[0m \u001b[43m        \u001b[49m\u001b[43mserialization\u001b[49m\u001b[38;5;241;43m=\u001b[39;49m\u001b[43mserialization\u001b[49m\u001b[43m,\u001b[49m\n\u001b[1;32m    465\u001b[0m \u001b[43m        \u001b[49m\u001b[43mrun_name\u001b[49m\u001b[38;5;241;43m=\u001b[39;49m\u001b[43mrun_name\u001b[49m\u001b[43m,\u001b[49m\n\u001b[1;32m    466\u001b[0m \u001b[43m        \u001b[49m\u001b[43mstream_logs\u001b[49m\u001b[38;5;241;43m=\u001b[39;49m\u001b[43mstream_logs\u001b[49m\u001b[43m,\u001b[49m\n\u001b[1;32m    467\u001b[0m \u001b[43m        \u001b[49m\u001b[43msave\u001b[49m\u001b[38;5;241;43m=\u001b[39;49m\u001b[43msave\u001b[49m\u001b[43m,\u001b[49m\n\u001b[1;32m    468\u001b[0m \u001b[43m        \u001b[49m\u001b[43mremote\u001b[49m\u001b[38;5;241;43m=\u001b[39;49m\u001b[43mremote\u001b[49m\u001b[43m,\u001b[49m\n\u001b[1;32m    469\u001b[0m \u001b[43m    \u001b[49m\u001b[43m)\u001b[49m\u001b[38;5;241;43m.\u001b[39;49m\u001b[43mmodel_dump\u001b[49m\u001b[43m(\u001b[49m\u001b[43m)\u001b[49m\u001b[43m,\u001b[49m\n\u001b[1;32m    470\u001b[0m \u001b[43m    \u001b[49m\u001b[43mheaders\u001b[49m\u001b[38;5;241;43m=\u001b[39;49m\u001b[43mheaders\u001b[49m\u001b[43m \u001b[49m\u001b[38;5;129;43;01mor\u001b[39;49;00m\u001b[43m \u001b[49m\u001b[38;5;28;43mself\u001b[39;49m\u001b[38;5;241;43m.\u001b[39;49m\u001b[43m_request_headers\u001b[49m\u001b[43m,\u001b[49m\n\u001b[1;32m    471\u001b[0m \u001b[43m    \u001b[49m\u001b[43mauth\u001b[49m\u001b[38;5;241;43m=\u001b[39;49m\u001b[38;5;28;43mself\u001b[39;49m\u001b[38;5;241;43m.\u001b[39;49m\u001b[43mauth\u001b[49m\u001b[43m,\u001b[49m\n\u001b[1;32m    472\u001b[0m \u001b[43m    \u001b[49m\u001b[43mverify\u001b[49m\u001b[38;5;241;43m=\u001b[39;49m\u001b[38;5;28;43mself\u001b[39;49m\u001b[38;5;241;43m.\u001b[39;49m\u001b[43mverify\u001b[49m\u001b[43m,\u001b[49m\n\u001b[1;32m    473\u001b[0m \u001b[43m\u001b[49m\u001b[43m)\u001b[49m\n\u001b[1;32m    475\u001b[0m \u001b[38;5;28;01mif\u001b[39;00m response\u001b[38;5;241m.\u001b[39mstatus_code \u001b[38;5;241m!=\u001b[39m \u001b[38;5;241m200\u001b[39m:\n",
      "File \u001b[0;32m~/runhouse/runhouse/servers/http/http_client.py:61\u001b[0m, in \u001b[0;36mretry_with_exponential_backoff.<locals>.wrapper\u001b[0;34m(*args, **kwargs)\u001b[0m\n\u001b[1;32m     60\u001b[0m \u001b[38;5;28;01mtry\u001b[39;00m:\n\u001b[0;32m---> 61\u001b[0m     \u001b[38;5;28;01mreturn\u001b[39;00m \u001b[43mfunc\u001b[49m\u001b[43m(\u001b[49m\u001b[38;5;241;43m*\u001b[39;49m\u001b[43margs\u001b[49m\u001b[43m,\u001b[49m\u001b[43m \u001b[49m\u001b[38;5;241;43m*\u001b[39;49m\u001b[38;5;241;43m*\u001b[39;49m\u001b[43mkwargs\u001b[49m\u001b[43m)\u001b[49m\n\u001b[1;32m     62\u001b[0m \u001b[38;5;28;01mexcept\u001b[39;00m \u001b[38;5;167;01mConnectionError\u001b[39;00m \u001b[38;5;28;01mas\u001b[39;00m e:\n",
      "File \u001b[0;32m/opt/anaconda3/envs/myenv/lib/python3.10/site-packages/requests/sessions.py:637\u001b[0m, in \u001b[0;36mSession.post\u001b[0;34m(self, url, data, json, **kwargs)\u001b[0m\n\u001b[1;32m    627\u001b[0m \u001b[38;5;250m\u001b[39m\u001b[38;5;124mr\u001b[39m\u001b[38;5;124;03m\"\"\"Sends a POST request. Returns :class:`Response` object.\u001b[39;00m\n\u001b[1;32m    628\u001b[0m \n\u001b[1;32m    629\u001b[0m \u001b[38;5;124;03m:param url: URL for the new :class:`Request` object.\u001b[39;00m\n\u001b[0;32m   (...)\u001b[0m\n\u001b[1;32m    634\u001b[0m \u001b[38;5;124;03m:rtype: requests.Response\u001b[39;00m\n\u001b[1;32m    635\u001b[0m \u001b[38;5;124;03m\"\"\"\u001b[39;00m\n\u001b[0;32m--> 637\u001b[0m \u001b[38;5;28;01mreturn\u001b[39;00m \u001b[38;5;28;43mself\u001b[39;49m\u001b[38;5;241;43m.\u001b[39;49m\u001b[43mrequest\u001b[49m\u001b[43m(\u001b[49m\u001b[38;5;124;43m\"\u001b[39;49m\u001b[38;5;124;43mPOST\u001b[39;49m\u001b[38;5;124;43m\"\u001b[39;49m\u001b[43m,\u001b[49m\u001b[43m \u001b[49m\u001b[43murl\u001b[49m\u001b[43m,\u001b[49m\u001b[43m \u001b[49m\u001b[43mdata\u001b[49m\u001b[38;5;241;43m=\u001b[39;49m\u001b[43mdata\u001b[49m\u001b[43m,\u001b[49m\u001b[43m \u001b[49m\u001b[43mjson\u001b[49m\u001b[38;5;241;43m=\u001b[39;49m\u001b[43mjson\u001b[49m\u001b[43m,\u001b[49m\u001b[43m \u001b[49m\u001b[38;5;241;43m*\u001b[39;49m\u001b[38;5;241;43m*\u001b[39;49m\u001b[43mkwargs\u001b[49m\u001b[43m)\u001b[49m\n",
      "File \u001b[0;32m/opt/anaconda3/envs/myenv/lib/python3.10/site-packages/requests/sessions.py:589\u001b[0m, in \u001b[0;36mSession.request\u001b[0;34m(self, method, url, params, data, headers, cookies, files, auth, timeout, allow_redirects, proxies, hooks, stream, verify, cert, json)\u001b[0m\n\u001b[1;32m    588\u001b[0m send_kwargs\u001b[38;5;241m.\u001b[39mupdate(settings)\n\u001b[0;32m--> 589\u001b[0m resp \u001b[38;5;241m=\u001b[39m \u001b[38;5;28;43mself\u001b[39;49m\u001b[38;5;241;43m.\u001b[39;49m\u001b[43msend\u001b[49m\u001b[43m(\u001b[49m\u001b[43mprep\u001b[49m\u001b[43m,\u001b[49m\u001b[43m \u001b[49m\u001b[38;5;241;43m*\u001b[39;49m\u001b[38;5;241;43m*\u001b[39;49m\u001b[43msend_kwargs\u001b[49m\u001b[43m)\u001b[49m\n\u001b[1;32m    591\u001b[0m \u001b[38;5;28;01mreturn\u001b[39;00m resp\n",
      "File \u001b[0;32m/opt/anaconda3/envs/myenv/lib/python3.10/site-packages/requests/sessions.py:703\u001b[0m, in \u001b[0;36mSession.send\u001b[0;34m(self, request, **kwargs)\u001b[0m\n\u001b[1;32m    702\u001b[0m \u001b[38;5;66;03m# Send the request\u001b[39;00m\n\u001b[0;32m--> 703\u001b[0m r \u001b[38;5;241m=\u001b[39m \u001b[43madapter\u001b[49m\u001b[38;5;241;43m.\u001b[39;49m\u001b[43msend\u001b[49m\u001b[43m(\u001b[49m\u001b[43mrequest\u001b[49m\u001b[43m,\u001b[49m\u001b[43m \u001b[49m\u001b[38;5;241;43m*\u001b[39;49m\u001b[38;5;241;43m*\u001b[39;49m\u001b[43mkwargs\u001b[49m\u001b[43m)\u001b[49m\n\u001b[1;32m    705\u001b[0m \u001b[38;5;66;03m# Total elapsed time of the request (approximately)\u001b[39;00m\n",
      "File \u001b[0;32m/opt/anaconda3/envs/myenv/lib/python3.10/site-packages/requests/adapters.py:667\u001b[0m, in \u001b[0;36mHTTPAdapter.send\u001b[0;34m(self, request, stream, timeout, verify, cert, proxies)\u001b[0m\n\u001b[1;32m    666\u001b[0m \u001b[38;5;28;01mtry\u001b[39;00m:\n\u001b[0;32m--> 667\u001b[0m     resp \u001b[38;5;241m=\u001b[39m \u001b[43mconn\u001b[49m\u001b[38;5;241;43m.\u001b[39;49m\u001b[43murlopen\u001b[49m\u001b[43m(\u001b[49m\n\u001b[1;32m    668\u001b[0m \u001b[43m        \u001b[49m\u001b[43mmethod\u001b[49m\u001b[38;5;241;43m=\u001b[39;49m\u001b[43mrequest\u001b[49m\u001b[38;5;241;43m.\u001b[39;49m\u001b[43mmethod\u001b[49m\u001b[43m,\u001b[49m\n\u001b[1;32m    669\u001b[0m \u001b[43m        \u001b[49m\u001b[43murl\u001b[49m\u001b[38;5;241;43m=\u001b[39;49m\u001b[43murl\u001b[49m\u001b[43m,\u001b[49m\n\u001b[1;32m    670\u001b[0m \u001b[43m        \u001b[49m\u001b[43mbody\u001b[49m\u001b[38;5;241;43m=\u001b[39;49m\u001b[43mrequest\u001b[49m\u001b[38;5;241;43m.\u001b[39;49m\u001b[43mbody\u001b[49m\u001b[43m,\u001b[49m\n\u001b[1;32m    671\u001b[0m \u001b[43m        \u001b[49m\u001b[43mheaders\u001b[49m\u001b[38;5;241;43m=\u001b[39;49m\u001b[43mrequest\u001b[49m\u001b[38;5;241;43m.\u001b[39;49m\u001b[43mheaders\u001b[49m\u001b[43m,\u001b[49m\n\u001b[1;32m    672\u001b[0m \u001b[43m        \u001b[49m\u001b[43mredirect\u001b[49m\u001b[38;5;241;43m=\u001b[39;49m\u001b[38;5;28;43;01mFalse\u001b[39;49;00m\u001b[43m,\u001b[49m\n\u001b[1;32m    673\u001b[0m \u001b[43m        \u001b[49m\u001b[43massert_same_host\u001b[49m\u001b[38;5;241;43m=\u001b[39;49m\u001b[38;5;28;43;01mFalse\u001b[39;49;00m\u001b[43m,\u001b[49m\n\u001b[1;32m    674\u001b[0m \u001b[43m        \u001b[49m\u001b[43mpreload_content\u001b[49m\u001b[38;5;241;43m=\u001b[39;49m\u001b[38;5;28;43;01mFalse\u001b[39;49;00m\u001b[43m,\u001b[49m\n\u001b[1;32m    675\u001b[0m \u001b[43m        \u001b[49m\u001b[43mdecode_content\u001b[49m\u001b[38;5;241;43m=\u001b[39;49m\u001b[38;5;28;43;01mFalse\u001b[39;49;00m\u001b[43m,\u001b[49m\n\u001b[1;32m    676\u001b[0m \u001b[43m        \u001b[49m\u001b[43mretries\u001b[49m\u001b[38;5;241;43m=\u001b[39;49m\u001b[38;5;28;43mself\u001b[39;49m\u001b[38;5;241;43m.\u001b[39;49m\u001b[43mmax_retries\u001b[49m\u001b[43m,\u001b[49m\n\u001b[1;32m    677\u001b[0m \u001b[43m        \u001b[49m\u001b[43mtimeout\u001b[49m\u001b[38;5;241;43m=\u001b[39;49m\u001b[43mtimeout\u001b[49m\u001b[43m,\u001b[49m\n\u001b[1;32m    678\u001b[0m \u001b[43m        \u001b[49m\u001b[43mchunked\u001b[49m\u001b[38;5;241;43m=\u001b[39;49m\u001b[43mchunked\u001b[49m\u001b[43m,\u001b[49m\n\u001b[1;32m    679\u001b[0m \u001b[43m    \u001b[49m\u001b[43m)\u001b[49m\n\u001b[1;32m    681\u001b[0m \u001b[38;5;28;01mexcept\u001b[39;00m (ProtocolError, \u001b[38;5;167;01mOSError\u001b[39;00m) \u001b[38;5;28;01mas\u001b[39;00m err:\n",
      "File \u001b[0;32m/opt/anaconda3/envs/myenv/lib/python3.10/site-packages/urllib3/connectionpool.py:716\u001b[0m, in \u001b[0;36mHTTPConnectionPool.urlopen\u001b[0;34m(self, method, url, body, headers, retries, redirect, assert_same_host, timeout, pool_timeout, release_conn, chunked, body_pos, **response_kw)\u001b[0m\n\u001b[1;32m    715\u001b[0m \u001b[38;5;66;03m# Make the request on the httplib connection object.\u001b[39;00m\n\u001b[0;32m--> 716\u001b[0m httplib_response \u001b[38;5;241m=\u001b[39m \u001b[38;5;28;43mself\u001b[39;49m\u001b[38;5;241;43m.\u001b[39;49m\u001b[43m_make_request\u001b[49m\u001b[43m(\u001b[49m\n\u001b[1;32m    717\u001b[0m \u001b[43m    \u001b[49m\u001b[43mconn\u001b[49m\u001b[43m,\u001b[49m\n\u001b[1;32m    718\u001b[0m \u001b[43m    \u001b[49m\u001b[43mmethod\u001b[49m\u001b[43m,\u001b[49m\n\u001b[1;32m    719\u001b[0m \u001b[43m    \u001b[49m\u001b[43murl\u001b[49m\u001b[43m,\u001b[49m\n\u001b[1;32m    720\u001b[0m \u001b[43m    \u001b[49m\u001b[43mtimeout\u001b[49m\u001b[38;5;241;43m=\u001b[39;49m\u001b[43mtimeout_obj\u001b[49m\u001b[43m,\u001b[49m\n\u001b[1;32m    721\u001b[0m \u001b[43m    \u001b[49m\u001b[43mbody\u001b[49m\u001b[38;5;241;43m=\u001b[39;49m\u001b[43mbody\u001b[49m\u001b[43m,\u001b[49m\n\u001b[1;32m    722\u001b[0m \u001b[43m    \u001b[49m\u001b[43mheaders\u001b[49m\u001b[38;5;241;43m=\u001b[39;49m\u001b[43mheaders\u001b[49m\u001b[43m,\u001b[49m\n\u001b[1;32m    723\u001b[0m \u001b[43m    \u001b[49m\u001b[43mchunked\u001b[49m\u001b[38;5;241;43m=\u001b[39;49m\u001b[43mchunked\u001b[49m\u001b[43m,\u001b[49m\n\u001b[1;32m    724\u001b[0m \u001b[43m\u001b[49m\u001b[43m)\u001b[49m\n\u001b[1;32m    726\u001b[0m \u001b[38;5;66;03m# If we're going to release the connection in ``finally:``, then\u001b[39;00m\n\u001b[1;32m    727\u001b[0m \u001b[38;5;66;03m# the response doesn't need to know about the connection. Otherwise\u001b[39;00m\n\u001b[1;32m    728\u001b[0m \u001b[38;5;66;03m# it will also try to release it and we'll have a double-release\u001b[39;00m\n\u001b[1;32m    729\u001b[0m \u001b[38;5;66;03m# mess.\u001b[39;00m\n",
      "File \u001b[0;32m/opt/anaconda3/envs/myenv/lib/python3.10/site-packages/urllib3/connectionpool.py:468\u001b[0m, in \u001b[0;36mHTTPConnectionPool._make_request\u001b[0;34m(self, conn, method, url, timeout, chunked, **httplib_request_kw)\u001b[0m\n\u001b[1;32m    464\u001b[0m         \u001b[38;5;28;01mexcept\u001b[39;00m \u001b[38;5;167;01mBaseException\u001b[39;00m \u001b[38;5;28;01mas\u001b[39;00m e:\n\u001b[1;32m    465\u001b[0m             \u001b[38;5;66;03m# Remove the TypeError from the exception chain in\u001b[39;00m\n\u001b[1;32m    466\u001b[0m             \u001b[38;5;66;03m# Python 3 (including for exceptions like SystemExit).\u001b[39;00m\n\u001b[1;32m    467\u001b[0m             \u001b[38;5;66;03m# Otherwise it looks like a bug in the code.\u001b[39;00m\n\u001b[0;32m--> 468\u001b[0m             \u001b[43msix\u001b[49m\u001b[38;5;241;43m.\u001b[39;49m\u001b[43mraise_from\u001b[49m\u001b[43m(\u001b[49m\u001b[43me\u001b[49m\u001b[43m,\u001b[49m\u001b[43m \u001b[49m\u001b[38;5;28;43;01mNone\u001b[39;49;00m\u001b[43m)\u001b[49m\n\u001b[1;32m    469\u001b[0m \u001b[38;5;28;01mexcept\u001b[39;00m (SocketTimeout, BaseSSLError, SocketError) \u001b[38;5;28;01mas\u001b[39;00m e:\n",
      "File \u001b[0;32m<string>:3\u001b[0m, in \u001b[0;36mraise_from\u001b[0;34m(value, from_value)\u001b[0m\n",
      "File \u001b[0;32m/opt/anaconda3/envs/myenv/lib/python3.10/site-packages/urllib3/connectionpool.py:463\u001b[0m, in \u001b[0;36mHTTPConnectionPool._make_request\u001b[0;34m(self, conn, method, url, timeout, chunked, **httplib_request_kw)\u001b[0m\n\u001b[1;32m    462\u001b[0m \u001b[38;5;28;01mtry\u001b[39;00m:\n\u001b[0;32m--> 463\u001b[0m     httplib_response \u001b[38;5;241m=\u001b[39m \u001b[43mconn\u001b[49m\u001b[38;5;241;43m.\u001b[39;49m\u001b[43mgetresponse\u001b[49m\u001b[43m(\u001b[49m\u001b[43m)\u001b[49m\n\u001b[1;32m    464\u001b[0m \u001b[38;5;28;01mexcept\u001b[39;00m \u001b[38;5;167;01mBaseException\u001b[39;00m \u001b[38;5;28;01mas\u001b[39;00m e:\n\u001b[1;32m    465\u001b[0m     \u001b[38;5;66;03m# Remove the TypeError from the exception chain in\u001b[39;00m\n\u001b[1;32m    466\u001b[0m     \u001b[38;5;66;03m# Python 3 (including for exceptions like SystemExit).\u001b[39;00m\n\u001b[1;32m    467\u001b[0m     \u001b[38;5;66;03m# Otherwise it looks like a bug in the code.\u001b[39;00m\n",
      "File \u001b[0;32m/opt/anaconda3/envs/myenv/lib/python3.10/site-packages/sentry_sdk/integrations/stdlib.py:131\u001b[0m, in \u001b[0;36m_install_httplib.<locals>.getresponse\u001b[0;34m(self, *args, **kwargs)\u001b[0m\n\u001b[1;32m    130\u001b[0m \u001b[38;5;28;01mtry\u001b[39;00m:\n\u001b[0;32m--> 131\u001b[0m     rv \u001b[38;5;241m=\u001b[39m \u001b[43mreal_getresponse\u001b[49m\u001b[43m(\u001b[49m\u001b[38;5;28;43mself\u001b[39;49m\u001b[43m,\u001b[49m\u001b[43m \u001b[49m\u001b[38;5;241;43m*\u001b[39;49m\u001b[43margs\u001b[49m\u001b[43m,\u001b[49m\u001b[43m \u001b[49m\u001b[38;5;241;43m*\u001b[39;49m\u001b[38;5;241;43m*\u001b[39;49m\u001b[43mkwargs\u001b[49m\u001b[43m)\u001b[49m\n\u001b[1;32m    133\u001b[0m     span\u001b[38;5;241m.\u001b[39mset_http_status(\u001b[38;5;28mint\u001b[39m(rv\u001b[38;5;241m.\u001b[39mstatus))\n",
      "File \u001b[0;32m/opt/anaconda3/envs/myenv/lib/python3.10/http/client.py:1375\u001b[0m, in \u001b[0;36mHTTPConnection.getresponse\u001b[0;34m(self)\u001b[0m\n\u001b[1;32m   1374\u001b[0m \u001b[38;5;28;01mtry\u001b[39;00m:\n\u001b[0;32m-> 1375\u001b[0m     \u001b[43mresponse\u001b[49m\u001b[38;5;241;43m.\u001b[39;49m\u001b[43mbegin\u001b[49m\u001b[43m(\u001b[49m\u001b[43m)\u001b[49m\n\u001b[1;32m   1376\u001b[0m \u001b[38;5;28;01mexcept\u001b[39;00m \u001b[38;5;167;01mConnectionError\u001b[39;00m:\n",
      "File \u001b[0;32m/opt/anaconda3/envs/myenv/lib/python3.10/http/client.py:318\u001b[0m, in \u001b[0;36mHTTPResponse.begin\u001b[0;34m(self)\u001b[0m\n\u001b[1;32m    317\u001b[0m \u001b[38;5;28;01mwhile\u001b[39;00m \u001b[38;5;28;01mTrue\u001b[39;00m:\n\u001b[0;32m--> 318\u001b[0m     version, status, reason \u001b[38;5;241m=\u001b[39m \u001b[38;5;28;43mself\u001b[39;49m\u001b[38;5;241;43m.\u001b[39;49m\u001b[43m_read_status\u001b[49m\u001b[43m(\u001b[49m\u001b[43m)\u001b[49m\n\u001b[1;32m    319\u001b[0m     \u001b[38;5;28;01mif\u001b[39;00m status \u001b[38;5;241m!=\u001b[39m CONTINUE:\n",
      "File \u001b[0;32m/opt/anaconda3/envs/myenv/lib/python3.10/http/client.py:279\u001b[0m, in \u001b[0;36mHTTPResponse._read_status\u001b[0;34m(self)\u001b[0m\n\u001b[1;32m    278\u001b[0m \u001b[38;5;28;01mdef\u001b[39;00m \u001b[38;5;21m_read_status\u001b[39m(\u001b[38;5;28mself\u001b[39m):\n\u001b[0;32m--> 279\u001b[0m     line \u001b[38;5;241m=\u001b[39m \u001b[38;5;28mstr\u001b[39m(\u001b[38;5;28;43mself\u001b[39;49m\u001b[38;5;241;43m.\u001b[39;49m\u001b[43mfp\u001b[49m\u001b[38;5;241;43m.\u001b[39;49m\u001b[43mreadline\u001b[49m\u001b[43m(\u001b[49m\u001b[43m_MAXLINE\u001b[49m\u001b[43m \u001b[49m\u001b[38;5;241;43m+\u001b[39;49m\u001b[43m \u001b[49m\u001b[38;5;241;43m1\u001b[39;49m\u001b[43m)\u001b[49m, \u001b[38;5;124m\"\u001b[39m\u001b[38;5;124miso-8859-1\u001b[39m\u001b[38;5;124m\"\u001b[39m)\n\u001b[1;32m    280\u001b[0m     \u001b[38;5;28;01mif\u001b[39;00m \u001b[38;5;28mlen\u001b[39m(line) \u001b[38;5;241m>\u001b[39m _MAXLINE:\n",
      "File \u001b[0;32m/opt/anaconda3/envs/myenv/lib/python3.10/socket.py:705\u001b[0m, in \u001b[0;36mSocketIO.readinto\u001b[0;34m(self, b)\u001b[0m\n\u001b[1;32m    704\u001b[0m \u001b[38;5;28;01mtry\u001b[39;00m:\n\u001b[0;32m--> 705\u001b[0m     \u001b[38;5;28;01mreturn\u001b[39;00m \u001b[38;5;28;43mself\u001b[39;49m\u001b[38;5;241;43m.\u001b[39;49m\u001b[43m_sock\u001b[49m\u001b[38;5;241;43m.\u001b[39;49m\u001b[43mrecv_into\u001b[49m\u001b[43m(\u001b[49m\u001b[43mb\u001b[49m\u001b[43m)\u001b[49m\n\u001b[1;32m    706\u001b[0m \u001b[38;5;28;01mexcept\u001b[39;00m timeout:\n",
      "\u001b[0;31mKeyboardInterrupt\u001b[0m: ",
      "\nDuring handling of the above exception, another exception occurred:\n",
      "\u001b[0;31mKeyboardInterrupt\u001b[0m                         Traceback (most recent call last)",
      "Cell \u001b[0;32mIn[15], line 4\u001b[0m\n\u001b[1;32m      2\u001b[0m cluster\u001b[38;5;241m.\u001b[39mconnect_dask()\n\u001b[1;32m      3\u001b[0m dask_trainer\u001b[38;5;241m.\u001b[39mload_client()\n\u001b[0;32m----> 4\u001b[0m \u001b[43mdask_trainer\u001b[49m\u001b[38;5;241;43m.\u001b[39;49m\u001b[43mtest_model\u001b[49m\u001b[43m(\u001b[49m\u001b[43m)\u001b[49m\n",
      "File \u001b[0;32m~/runhouse/runhouse/resources/distributed/supervisor.py:74\u001b[0m, in \u001b[0;36mSupervisor.__getattribute__.<locals>.RemoteMethodWrapper.__call__\u001b[0;34m(self, *args, **kwargs)\u001b[0m\n\u001b[1;32m     72\u001b[0m \u001b[38;5;28;01melse\u001b[39;00m:\n\u001b[1;32m     73\u001b[0m     args \u001b[38;5;241m=\u001b[39m args \u001b[38;5;129;01mor\u001b[39;00m []\n\u001b[0;32m---> 74\u001b[0m     \u001b[38;5;28;01mreturn\u001b[39;00m \u001b[43mclient_call_wrapper\u001b[49m\u001b[43m(\u001b[49m\n\u001b[1;32m     75\u001b[0m \u001b[43m        \u001b[49m\u001b[43mclient\u001b[49m\u001b[43m,\u001b[49m\n\u001b[1;32m     76\u001b[0m \u001b[43m        \u001b[49m\u001b[43msystem\u001b[49m\u001b[43m,\u001b[49m\n\u001b[1;32m     77\u001b[0m \u001b[43m        \u001b[49m\u001b[38;5;124;43m\"\u001b[39;49m\u001b[38;5;124;43mcall\u001b[39;49m\u001b[38;5;124;43m\"\u001b[39;49m\u001b[43m,\u001b[49m\n\u001b[1;32m     78\u001b[0m \u001b[43m        \u001b[49m\u001b[43mname\u001b[49m\u001b[43m,\u001b[49m\n\u001b[1;32m     79\u001b[0m \u001b[43m        \u001b[49m\u001b[38;5;124;43m\"\u001b[39;49m\u001b[38;5;124;43mforward\u001b[39;49m\u001b[38;5;124;43m\"\u001b[39;49m\u001b[43m,\u001b[49m\n\u001b[1;32m     80\u001b[0m \u001b[43m        \u001b[49m\u001b[43mrun_name\u001b[49m\u001b[38;5;241;43m=\u001b[39;49m\u001b[43mkwargs\u001b[49m\u001b[38;5;241;43m.\u001b[39;49m\u001b[43mpop\u001b[49m\u001b[43m(\u001b[49m\u001b[38;5;124;43m\"\u001b[39;49m\u001b[38;5;124;43mrun_name\u001b[39;49m\u001b[38;5;124;43m\"\u001b[39;49m\u001b[43m,\u001b[49m\u001b[43m \u001b[49m\u001b[38;5;28;43;01mNone\u001b[39;49;00m\u001b[43m)\u001b[49m\u001b[43m,\u001b[49m\n\u001b[1;32m     81\u001b[0m \u001b[43m        \u001b[49m\u001b[43mstream_logs\u001b[49m\u001b[38;5;241;43m=\u001b[39;49m\u001b[43mkwargs\u001b[49m\u001b[38;5;241;43m.\u001b[39;49m\u001b[43mpop\u001b[49m\u001b[43m(\u001b[49m\u001b[38;5;124;43m\"\u001b[39;49m\u001b[38;5;124;43mstream_logs\u001b[39;49m\u001b[38;5;124;43m\"\u001b[39;49m\u001b[43m,\u001b[49m\u001b[43m \u001b[49m\u001b[38;5;28;43;01mTrue\u001b[39;49;00m\u001b[43m)\u001b[49m\u001b[43m,\u001b[49m\n\u001b[1;32m     82\u001b[0m \u001b[43m        \u001b[49m\u001b[43mremote\u001b[49m\u001b[38;5;241;43m=\u001b[39;49m\u001b[43mkwargs\u001b[49m\u001b[38;5;241;43m.\u001b[39;49m\u001b[43mpop\u001b[49m\u001b[43m(\u001b[49m\u001b[38;5;124;43m\"\u001b[39;49m\u001b[38;5;124;43mremote\u001b[39;49m\u001b[38;5;124;43m\"\u001b[39;49m\u001b[43m,\u001b[49m\u001b[43m \u001b[49m\u001b[38;5;28;43;01mFalse\u001b[39;49;00m\u001b[43m)\u001b[49m\u001b[43m,\u001b[49m\n\u001b[1;32m     83\u001b[0m \u001b[43m        \u001b[49m\u001b[43mdata\u001b[49m\u001b[38;5;241;43m=\u001b[39;49m\u001b[43m{\u001b[49m\u001b[38;5;124;43m\"\u001b[39;49m\u001b[38;5;124;43margs\u001b[39;49m\u001b[38;5;124;43m\"\u001b[39;49m\u001b[43m:\u001b[49m\u001b[43m \u001b[49m\u001b[43m[\u001b[49m\u001b[43mitem\u001b[49m\u001b[43m]\u001b[49m\u001b[43m \u001b[49m\u001b[38;5;241;43m+\u001b[39;49m\u001b[43m \u001b[49m\u001b[38;5;28;43mlist\u001b[39;49m\u001b[43m(\u001b[49m\u001b[43margs\u001b[49m\u001b[43m)\u001b[49m\u001b[43m,\u001b[49m\u001b[43m \u001b[49m\u001b[38;5;124;43m\"\u001b[39;49m\u001b[38;5;124;43mkwargs\u001b[39;49m\u001b[38;5;124;43m\"\u001b[39;49m\u001b[43m:\u001b[49m\u001b[43m \u001b[49m\u001b[43mkwargs\u001b[49m\u001b[43m}\u001b[49m\u001b[43m,\u001b[49m\n\u001b[1;32m     84\u001b[0m \u001b[43m    \u001b[49m\u001b[43m)\u001b[49m\n",
      "File \u001b[0;32m~/runhouse/runhouse/utils.py:464\u001b[0m, in \u001b[0;36mclient_call_wrapper\u001b[0;34m(client, system, client_method_name, *args, **kwargs)\u001b[0m\n\u001b[1;32m    461\u001b[0m \u001b[38;5;28;01mfrom\u001b[39;00m \u001b[38;5;21;01mrunhouse\u001b[39;00m\u001b[38;5;21;01m.\u001b[39;00m\u001b[38;5;21;01mresources\u001b[39;00m\u001b[38;5;21;01m.\u001b[39;00m\u001b[38;5;21;01mhardware\u001b[39;00m \u001b[38;5;28;01mimport\u001b[39;00m Cluster\n\u001b[1;32m    463\u001b[0m \u001b[38;5;28;01mif\u001b[39;00m system \u001b[38;5;129;01mand\u001b[39;00m \u001b[38;5;28misinstance\u001b[39m(system, Cluster) \u001b[38;5;129;01mand\u001b[39;00m \u001b[38;5;129;01mnot\u001b[39;00m system\u001b[38;5;241m.\u001b[39mon_this_cluster():\n\u001b[0;32m--> 464\u001b[0m     \u001b[38;5;28;01mreturn\u001b[39;00m \u001b[43msystem\u001b[49m\u001b[38;5;241;43m.\u001b[39;49m\u001b[43mcall_client_method\u001b[49m\u001b[43m(\u001b[49m\u001b[43mclient_method_name\u001b[49m\u001b[43m,\u001b[49m\u001b[43m \u001b[49m\u001b[38;5;241;43m*\u001b[39;49m\u001b[43margs\u001b[49m\u001b[43m,\u001b[49m\u001b[43m \u001b[49m\u001b[38;5;241;43m*\u001b[39;49m\u001b[38;5;241;43m*\u001b[39;49m\u001b[43mkwargs\u001b[49m\u001b[43m)\u001b[49m\n\u001b[1;32m    465\u001b[0m method \u001b[38;5;241m=\u001b[39m \u001b[38;5;28mgetattr\u001b[39m(client, client_method_name)\n\u001b[1;32m    466\u001b[0m \u001b[38;5;28;01mreturn\u001b[39;00m method(\u001b[38;5;241m*\u001b[39margs, \u001b[38;5;241m*\u001b[39m\u001b[38;5;241m*\u001b[39mkwargs)\n",
      "File \u001b[0;32m~/runhouse/runhouse/resources/hardware/cluster.py:898\u001b[0m, in \u001b[0;36mCluster.call_client_method\u001b[0;34m(self, client_method_name, *args, **kwargs)\u001b[0m\n\u001b[1;32m    896\u001b[0m method \u001b[38;5;241m=\u001b[39m \u001b[38;5;28mgetattr\u001b[39m(\u001b[38;5;28mself\u001b[39m\u001b[38;5;241m.\u001b[39mclient, client_method_name)\n\u001b[1;32m    897\u001b[0m \u001b[38;5;28;01mtry\u001b[39;00m:\n\u001b[0;32m--> 898\u001b[0m     \u001b[38;5;28;01mreturn\u001b[39;00m \u001b[43mmethod\u001b[49m\u001b[43m(\u001b[49m\u001b[38;5;241;43m*\u001b[39;49m\u001b[43margs\u001b[49m\u001b[43m,\u001b[49m\u001b[43m \u001b[49m\u001b[38;5;241;43m*\u001b[39;49m\u001b[38;5;241;43m*\u001b[39;49m\u001b[43mkwargs\u001b[49m\u001b[43m)\u001b[49m\n\u001b[1;32m    899\u001b[0m \u001b[38;5;28;01mexcept\u001b[39;00m (\u001b[38;5;167;01mConnectionError\u001b[39;00m, requests\u001b[38;5;241m.\u001b[39mexceptions\u001b[38;5;241m.\u001b[39mConnectionError):\n\u001b[1;32m    900\u001b[0m     \u001b[38;5;28;01mtry\u001b[39;00m:\n",
      "File \u001b[0;32m~/runhouse/runhouse/servers/http/http_client.py:401\u001b[0m, in \u001b[0;36mHTTPClient.call\u001b[0;34m(self, key, method_name, data, serialization, run_name, stream_logs, remote, save, headers)\u001b[0m\n\u001b[1;32m    388\u001b[0m \u001b[38;5;28;01mdef\u001b[39;00m \u001b[38;5;21mcall\u001b[39m(\n\u001b[1;32m    389\u001b[0m     \u001b[38;5;28mself\u001b[39m,\n\u001b[1;32m    390\u001b[0m     key: \u001b[38;5;28mstr\u001b[39m,\n\u001b[0;32m   (...)\u001b[0m\n\u001b[1;32m    398\u001b[0m     headers\u001b[38;5;241m=\u001b[39m\u001b[38;5;28;01mNone\u001b[39;00m,\n\u001b[1;32m    399\u001b[0m ):\n\u001b[1;32m    400\u001b[0m \u001b[38;5;250m    \u001b[39m\u001b[38;5;124;03m\"\"\"wrapper to temporarily support cluster's call signature\"\"\"\u001b[39;00m\n\u001b[0;32m--> 401\u001b[0m     \u001b[38;5;28;01mreturn\u001b[39;00m \u001b[38;5;28;43mself\u001b[39;49m\u001b[38;5;241;43m.\u001b[39;49m\u001b[43mcall_module_method\u001b[49m\u001b[43m(\u001b[49m\n\u001b[1;32m    402\u001b[0m \u001b[43m        \u001b[49m\u001b[43mkey\u001b[49m\u001b[43m,\u001b[49m\n\u001b[1;32m    403\u001b[0m \u001b[43m        \u001b[49m\u001b[43mmethod_name\u001b[49m\u001b[43m,\u001b[49m\n\u001b[1;32m    404\u001b[0m \u001b[43m        \u001b[49m\u001b[43mdata\u001b[49m\u001b[38;5;241;43m=\u001b[39;49m\u001b[43mdata\u001b[49m\u001b[43m,\u001b[49m\n\u001b[1;32m    405\u001b[0m \u001b[43m        \u001b[49m\u001b[43mserialization\u001b[49m\u001b[38;5;241;43m=\u001b[39;49m\u001b[43mserialization\u001b[49m\u001b[43m,\u001b[49m\n\u001b[1;32m    406\u001b[0m \u001b[43m        \u001b[49m\u001b[43mrun_name\u001b[49m\u001b[38;5;241;43m=\u001b[39;49m\u001b[43mrun_name\u001b[49m\u001b[43m,\u001b[49m\n\u001b[1;32m    407\u001b[0m \u001b[43m        \u001b[49m\u001b[43mstream_logs\u001b[49m\u001b[38;5;241;43m=\u001b[39;49m\u001b[43mstream_logs\u001b[49m\u001b[43m,\u001b[49m\n\u001b[1;32m    408\u001b[0m \u001b[43m        \u001b[49m\u001b[43mremote\u001b[49m\u001b[38;5;241;43m=\u001b[39;49m\u001b[43mremote\u001b[49m\u001b[43m,\u001b[49m\n\u001b[1;32m    409\u001b[0m \u001b[43m        \u001b[49m\u001b[43msave\u001b[49m\u001b[38;5;241;43m=\u001b[39;49m\u001b[43msave\u001b[49m\u001b[43m,\u001b[49m\n\u001b[1;32m    410\u001b[0m \u001b[43m        \u001b[49m\u001b[43msystem\u001b[49m\u001b[38;5;241;43m=\u001b[39;49m\u001b[38;5;28;43mself\u001b[39;49m\u001b[38;5;241;43m.\u001b[39;49m\u001b[43msystem\u001b[49m\u001b[43m,\u001b[49m\n\u001b[1;32m    411\u001b[0m \u001b[43m        \u001b[49m\u001b[43mheaders\u001b[49m\u001b[38;5;241;43m=\u001b[39;49m\u001b[43mheaders\u001b[49m\u001b[43m,\u001b[49m\n\u001b[1;32m    412\u001b[0m \u001b[43m    \u001b[49m\u001b[43m)\u001b[49m\n",
      "File \u001b[0;32m~/runhouse/runhouse/servers/http/http_client.py:446\u001b[0m, in \u001b[0;36mHTTPClient.call_module_method\u001b[0;34m(self, key, method_name, data, serialization, run_name, stream_logs, remote, save, system, headers)\u001b[0m\n\u001b[1;32m    443\u001b[0m serialization \u001b[38;5;241m=\u001b[39m serialization \u001b[38;5;129;01mor\u001b[39;00m \u001b[38;5;124m\"\u001b[39m\u001b[38;5;124mpickle\u001b[39m\u001b[38;5;124m\"\u001b[39m\n\u001b[1;32m    444\u001b[0m error_str \u001b[38;5;241m=\u001b[39m \u001b[38;5;124mf\u001b[39m\u001b[38;5;124m\"\u001b[39m\u001b[38;5;124mError calling \u001b[39m\u001b[38;5;132;01m{\u001b[39;00mmethod_name\u001b[38;5;132;01m}\u001b[39;00m\u001b[38;5;124m on \u001b[39m\u001b[38;5;132;01m{\u001b[39;00mkey\u001b[38;5;132;01m}\u001b[39;00m\u001b[38;5;124m on server\u001b[39m\u001b[38;5;124m\"\u001b[39m\n\u001b[0;32m--> 446\u001b[0m \u001b[38;5;28;01mwith\u001b[39;00m ThreadPoolExecutor() \u001b[38;5;28;01mas\u001b[39;00m executor:\n\u001b[1;32m    447\u001b[0m     \u001b[38;5;66;03m# Run logs request in separate thread. Can start it before because it'll wait 5 seconds for the\u001b[39;00m\n\u001b[1;32m    448\u001b[0m     \u001b[38;5;66;03m# calls request to begin.\u001b[39;00m\n\u001b[1;32m    449\u001b[0m     \u001b[38;5;28;01mif\u001b[39;00m stream_logs:\n\u001b[1;32m    450\u001b[0m         logs_future \u001b[38;5;241m=\u001b[39m executor\u001b[38;5;241m.\u001b[39msubmit(\n\u001b[1;32m    451\u001b[0m             thread_coroutine,\n\u001b[1;32m    452\u001b[0m             \u001b[38;5;28mself\u001b[39m\u001b[38;5;241m.\u001b[39m_alogs_request(\n\u001b[0;32m   (...)\u001b[0m\n\u001b[1;32m    458\u001b[0m             ),\n\u001b[1;32m    459\u001b[0m         )\n",
      "File \u001b[0;32m/opt/anaconda3/envs/myenv/lib/python3.10/concurrent/futures/_base.py:649\u001b[0m, in \u001b[0;36mExecutor.__exit__\u001b[0;34m(self, exc_type, exc_val, exc_tb)\u001b[0m\n\u001b[1;32m    648\u001b[0m \u001b[38;5;28;01mdef\u001b[39;00m \u001b[38;5;21m__exit__\u001b[39m(\u001b[38;5;28mself\u001b[39m, exc_type, exc_val, exc_tb):\n\u001b[0;32m--> 649\u001b[0m     \u001b[38;5;28;43mself\u001b[39;49m\u001b[38;5;241;43m.\u001b[39;49m\u001b[43mshutdown\u001b[49m\u001b[43m(\u001b[49m\u001b[43mwait\u001b[49m\u001b[38;5;241;43m=\u001b[39;49m\u001b[38;5;28;43;01mTrue\u001b[39;49;00m\u001b[43m)\u001b[49m\n\u001b[1;32m    650\u001b[0m     \u001b[38;5;28;01mreturn\u001b[39;00m \u001b[38;5;28;01mFalse\u001b[39;00m\n",
      "File \u001b[0;32m/opt/anaconda3/envs/myenv/lib/python3.10/concurrent/futures/thread.py:235\u001b[0m, in \u001b[0;36mThreadPoolExecutor.shutdown\u001b[0;34m(self, wait, cancel_futures)\u001b[0m\n\u001b[1;32m    233\u001b[0m \u001b[38;5;28;01mif\u001b[39;00m wait:\n\u001b[1;32m    234\u001b[0m     \u001b[38;5;28;01mfor\u001b[39;00m t \u001b[38;5;129;01min\u001b[39;00m \u001b[38;5;28mself\u001b[39m\u001b[38;5;241m.\u001b[39m_threads:\n\u001b[0;32m--> 235\u001b[0m         \u001b[43mt\u001b[49m\u001b[38;5;241;43m.\u001b[39;49m\u001b[43mjoin\u001b[49m\u001b[43m(\u001b[49m\u001b[43m)\u001b[49m\n",
      "File \u001b[0;32m/opt/anaconda3/envs/myenv/lib/python3.10/threading.py:1096\u001b[0m, in \u001b[0;36mThread.join\u001b[0;34m(self, timeout)\u001b[0m\n\u001b[1;32m   1093\u001b[0m     \u001b[38;5;28;01mraise\u001b[39;00m \u001b[38;5;167;01mRuntimeError\u001b[39;00m(\u001b[38;5;124m\"\u001b[39m\u001b[38;5;124mcannot join current thread\u001b[39m\u001b[38;5;124m\"\u001b[39m)\n\u001b[1;32m   1095\u001b[0m \u001b[38;5;28;01mif\u001b[39;00m timeout \u001b[38;5;129;01mis\u001b[39;00m \u001b[38;5;28;01mNone\u001b[39;00m:\n\u001b[0;32m-> 1096\u001b[0m     \u001b[38;5;28;43mself\u001b[39;49m\u001b[38;5;241;43m.\u001b[39;49m\u001b[43m_wait_for_tstate_lock\u001b[49m\u001b[43m(\u001b[49m\u001b[43m)\u001b[49m\n\u001b[1;32m   1097\u001b[0m \u001b[38;5;28;01melse\u001b[39;00m:\n\u001b[1;32m   1098\u001b[0m     \u001b[38;5;66;03m# the behavior of a negative timeout isn't documented, but\u001b[39;00m\n\u001b[1;32m   1099\u001b[0m     \u001b[38;5;66;03m# historically .join(timeout=x) for x<0 has acted as if timeout=0\u001b[39;00m\n\u001b[1;32m   1100\u001b[0m     \u001b[38;5;28mself\u001b[39m\u001b[38;5;241m.\u001b[39m_wait_for_tstate_lock(timeout\u001b[38;5;241m=\u001b[39m\u001b[38;5;28mmax\u001b[39m(timeout, \u001b[38;5;241m0\u001b[39m))\n",
      "File \u001b[0;32m/opt/anaconda3/envs/myenv/lib/python3.10/threading.py:1116\u001b[0m, in \u001b[0;36mThread._wait_for_tstate_lock\u001b[0;34m(self, block, timeout)\u001b[0m\n\u001b[1;32m   1113\u001b[0m     \u001b[38;5;28;01mreturn\u001b[39;00m\n\u001b[1;32m   1115\u001b[0m \u001b[38;5;28;01mtry\u001b[39;00m:\n\u001b[0;32m-> 1116\u001b[0m     \u001b[38;5;28;01mif\u001b[39;00m \u001b[43mlock\u001b[49m\u001b[38;5;241;43m.\u001b[39;49m\u001b[43macquire\u001b[49m\u001b[43m(\u001b[49m\u001b[43mblock\u001b[49m\u001b[43m,\u001b[49m\u001b[43m \u001b[49m\u001b[43mtimeout\u001b[49m\u001b[43m)\u001b[49m:\n\u001b[1;32m   1117\u001b[0m         lock\u001b[38;5;241m.\u001b[39mrelease()\n\u001b[1;32m   1118\u001b[0m         \u001b[38;5;28mself\u001b[39m\u001b[38;5;241m.\u001b[39m_stop()\n",
      "\u001b[0;31mKeyboardInterrupt\u001b[0m: "
     ]
    }
   ],
   "source": [
    "cluster.kill_dask() \n",
    "cluster.connect_dask()\n",
    "dask_trainer.load_client()\n",
    "dask_trainer.test_model()\n"
   ]
  },
  {
   "cell_type": "code",
   "execution_count": 27,
   "metadata": {},
   "outputs": [
    {
     "name": "stdout",
     "output_type": "stream",
     "text": [
      "WARNING | 2024-11-14 23:08:41 | runhouse.servers.http.http_client:277 | Server was started with Runhouse version (0.0.36), but local Runhouse version is (0.0.37)\n",
      "INFO | 2024-11-14 23:08:42 | runhouse.resources.hardware.on_demand_cluster:607 | Tearing down cluster with Den.\n",
      "INFO | 2024-11-14 23:08:44 | runhouse.resources.hardware.launcher_utils:91 | Tearing down cluster, keeping configs in Den\n",
      "INFO | 2024-11-14 23:08:44 | runhouse.resources.hardware.launcher_utils:86 | Tearing down cluster\n",
      "INFO | 2024-11-14 23:09:12 | runhouse.resources.hardware.launcher_utils:91 | Cluster successfully torn down\n",
      "INFO | 2024-11-14 23:09:13 | runhouse.resources.hardware.launcher_utils:101 | Successfully ran cluster operation via Den\n"
     ]
    }
   ],
   "source": [
    "#dask_trainer.save_model(\"model.pkl\")\n",
    "cluster.notebook()\n",
    "\n",
    "#cluster.teardown() # Optionally, automatically teardown the cluster after training\n"
   ]
  },
  {
   "cell_type": "code",
   "execution_count": 17,
   "metadata": {},
   "outputs": [
    {
     "data": {
      "text/plain": [
       "{'name': '/paul/py-3-dask-gcp-1_1_jupyter',\n",
       " 'resource_type': 'cluster',\n",
       " 'resource_subtype': 'OnDemandCluster',\n",
       " 'visibility': 'private',\n",
       " 'ips': ['34.139.63.210', '34.138.212.133', '35.243.243.241'],\n",
       " 'server_port': 32300,\n",
       " 'server_connection_type': 'ssh',\n",
       " 'den_auth': False,\n",
       " 'ssh_port': 22,\n",
       " 'client_port': 32301,\n",
       " 'ssh_properties': {'ssh_user': 'gcpuser',\n",
       "  'ssh_private_key': '~/.ssh/sky-key',\n",
       "  'ssh_control_name': 'py-3-dask-gcp-1-1-jupyter-afc0',\n",
       "  'ssh_proxy_command': None},\n",
       " 'creds': '/paul/ssh-sky-key',\n",
       " 'api_server_url': 'https://api.run.house',\n",
       " 'default_env': '/paul/dask-env',\n",
       " 'instance_type': 'CPU:2+',\n",
       " 'num_nodes': 3,\n",
       " 'provider': 'gcp',\n",
       " 'open_ports': [],\n",
       " 'use_spot': False,\n",
       " 'region': 'us-east1',\n",
       " 'stable_internal_external_ips': [('10.142.0.28', '34.139.63.210'),\n",
       "  ('10.142.0.29', '34.138.212.133'),\n",
       "  ('10.142.0.30', '35.243.243.241')],\n",
       " 'memory': '12+',\n",
       " 'sky_kwargs': {},\n",
       " 'launched_properties': {'cloud': 'gcp',\n",
       "  'instance_type': 'n2-highmem-2',\n",
       "  'region': 'us-east1',\n",
       "  'cost_per_hour': '0.13101',\n",
       "  'disk_size': 256,\n",
       "  'num_cpus': '2.0'},\n",
       " 'launcher_type': 'den',\n",
       " 'autostop_mins': -1}"
      ]
     },
     "execution_count": 17,
     "metadata": {},
     "output_type": "execute_result"
    }
   ],
   "source": [
    "cluster.config()"
   ]
  },
  {
   "cell_type": "code",
   "execution_count": null,
   "metadata": {},
   "outputs": [],
   "source": []
  }
 ],
 "metadata": {
  "kernelspec": {
   "display_name": "tempenv",
   "language": "python",
   "name": "python3"
  },
  "language_info": {
   "codemirror_mode": {
    "name": "ipython",
    "version": 3
   },
   "file_extension": ".py",
   "mimetype": "text/x-python",
   "name": "python",
   "nbconvert_exporter": "python",
   "pygments_lexer": "ipython3",
   "version": "3.10.13"
  }
 },
 "nbformat": 4,
 "nbformat_minor": 2
}
